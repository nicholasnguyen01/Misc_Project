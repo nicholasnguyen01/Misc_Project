{
 "cells": [
  {
   "cell_type": "markdown",
   "id": "c0c55c27",
   "metadata": {},
   "source": [
    "# 'Martial Arts by Country Project' by Ninh Nguyen"
   ]
  },
  {
   "cell_type": "markdown",
   "id": "79965db4",
   "metadata": {},
   "source": [
    "## Source: https://worldpopulationreview.com/country-rankings/martial-arts-by-country"
   ]
  },
  {
   "cell_type": "markdown",
   "id": "3373b82a",
   "metadata": {},
   "source": [
    "### The purpose of this project is for educative purposes. After going through this project, you should be at least familar with some of the martial arts that exist in the world."
   ]
  },
  {
   "cell_type": "markdown",
   "id": "4ddc8f53",
   "metadata": {},
   "source": [
    "### According to the World Population Review website, martial arts can best be summarized as follow ,...\n",
    "\n",
    "Martial Arts by Country 2023\n",
    "\n",
    "Martial arts is one of the oldest practices recorded in the pages of human history. While different martial arts started because of different reasons, today the popularity and revenue from martial arts are centered around competition. Even in the world of movies, entertainment, and video games, martial arts has made waves.\n",
    "\n",
    "The sensation of martial arts is hardly a new thing too. In the US, martial arts stars like Bruce Lee and Chuck Norris were filling seats as their movies were selling out theaters in the Seventies. In the Eighties, martial arts become something of a phenomenon in games like Mortal Kombat (which also later found the big screen).\n",
    "\n",
    "No, martial arts isn't a new thing, but it is a continually growing art form that covers many styles and practices. That also involves more than a few countries that lay claim to many of these martial arts styles. While some countries like Brazil and Japan are almost synonymous with martial arts, other countries such as the Netherlands (home of kickboxing) are less tightly tied to the martial arts world.\n",
    "\n",
    "Martial arts by country of origin are listed below, but all types of martial arts are used and practiced around the globe today. From forums such as the UFC and other mixed martial arts competition platforms, martial arts has been showcased to the world. And the world responded with applause and a thirst for more.\n",
    "\n",
    "While some of these art forms cross over and may even share some rights of origin, these are the traditionally recognized countries of origin for each style and form of martial arts. In one case, Brazilian Jujitsu, the style was even embedded into the name of the practice.\n",
    "\n",
    "Although it is interesting to see martial arts by country of origin, it is, and has always been, the style and form of martial arts that captivates and compels us to join, support, or watch - regardless of where you live.\n"
   ]
  },
  {
   "cell_type": "code",
   "execution_count": 1,
   "id": "d4e7bdd4",
   "metadata": {},
   "outputs": [],
   "source": [
    "# Import package\n",
    "import pandas as pd\n",
    "import matplotlib.pyplot as plt\n",
    "import seaborn as sns\n"
   ]
  },
  {
   "cell_type": "code",
   "execution_count": 2,
   "id": "abe67aa2",
   "metadata": {
    "scrolled": false
   },
   "outputs": [
    {
     "data": {
      "text/html": [
       "<div>\n",
       "<style scoped>\n",
       "    .dataframe tbody tr th:only-of-type {\n",
       "        vertical-align: middle;\n",
       "    }\n",
       "\n",
       "    .dataframe tbody tr th {\n",
       "        vertical-align: top;\n",
       "    }\n",
       "\n",
       "    .dataframe thead th {\n",
       "        text-align: right;\n",
       "    }\n",
       "</style>\n",
       "<table border=\"1\" class=\"dataframe\">\n",
       "  <thead>\n",
       "    <tr style=\"text-align: right;\">\n",
       "      <th></th>\n",
       "      <th>place</th>\n",
       "      <th>pop2023</th>\n",
       "      <th>growthRate</th>\n",
       "      <th>area</th>\n",
       "      <th>country</th>\n",
       "      <th>cca3</th>\n",
       "      <th>cca2</th>\n",
       "      <th>ccn3</th>\n",
       "      <th>region</th>\n",
       "      <th>subregion</th>\n",
       "      <th>unMember</th>\n",
       "      <th>officialName</th>\n",
       "      <th>landAreaKm</th>\n",
       "      <th>density</th>\n",
       "      <th>densityMi</th>\n",
       "      <th>borders</th>\n",
       "      <th>Rank</th>\n",
       "      <th>MartialArtsByCountryOfOrigin</th>\n",
       "    </tr>\n",
       "  </thead>\n",
       "  <tbody>\n",
       "    <tr>\n",
       "      <th>0</th>\n",
       "      <td>356</td>\n",
       "      <td>1428627663</td>\n",
       "      <td>0.00808</td>\n",
       "      <td>3287590</td>\n",
       "      <td>India</td>\n",
       "      <td>IND</td>\n",
       "      <td>IN</td>\n",
       "      <td>356</td>\n",
       "      <td>Asia</td>\n",
       "      <td>Southern Asia, South Central Asia</td>\n",
       "      <td>True</td>\n",
       "      <td>Republic of India</td>\n",
       "      <td>2973190.0</td>\n",
       "      <td>480.5033</td>\n",
       "      <td>1244.5036</td>\n",
       "      <td>AFG, BGD, BTN, MMR, CHN, NPL, PAK, LKA</td>\n",
       "      <td>1</td>\n",
       "      <td>Indian martial arts |\\nMardani khel |\\nMalla-y...</td>\n",
       "    </tr>\n",
       "    <tr>\n",
       "      <th>1</th>\n",
       "      <td>156</td>\n",
       "      <td>1425671352</td>\n",
       "      <td>-0.00015</td>\n",
       "      <td>9706961</td>\n",
       "      <td>China</td>\n",
       "      <td>CHN</td>\n",
       "      <td>CN</td>\n",
       "      <td>156</td>\n",
       "      <td>Asia</td>\n",
       "      <td>Eastern Asia</td>\n",
       "      <td>True</td>\n",
       "      <td>People's Republic of China</td>\n",
       "      <td>9424702.9</td>\n",
       "      <td>151.2696</td>\n",
       "      <td>391.7884</td>\n",
       "      <td>AFG, BTN, MMR, HKG, IND, KAZ, PRK, KGZ, LAO, M...</td>\n",
       "      <td>2</td>\n",
       "      <td>Chinese martial arts |\\nShaolin Kung Fu |\\nBag...</td>\n",
       "    </tr>\n",
       "    <tr>\n",
       "      <th>2</th>\n",
       "      <td>840</td>\n",
       "      <td>339996563</td>\n",
       "      <td>0.00505</td>\n",
       "      <td>9372610</td>\n",
       "      <td>United States</td>\n",
       "      <td>USA</td>\n",
       "      <td>US</td>\n",
       "      <td>840</td>\n",
       "      <td>North America</td>\n",
       "      <td>Northern America</td>\n",
       "      <td>True</td>\n",
       "      <td>United States of America</td>\n",
       "      <td>9147420.0</td>\n",
       "      <td>37.1686</td>\n",
       "      <td>96.2666</td>\n",
       "      <td>CAN, MEX</td>\n",
       "      <td>3</td>\n",
       "      <td>American Kenpo |\\nChulukua |\\nCollegiate wrest...</td>\n",
       "    </tr>\n",
       "    <tr>\n",
       "      <th>3</th>\n",
       "      <td>360</td>\n",
       "      <td>277534122</td>\n",
       "      <td>0.00738</td>\n",
       "      <td>1904569</td>\n",
       "      <td>Indonesia</td>\n",
       "      <td>IDN</td>\n",
       "      <td>ID</td>\n",
       "      <td>360</td>\n",
       "      <td>Asia</td>\n",
       "      <td>South-Eastern Asia</td>\n",
       "      <td>True</td>\n",
       "      <td>Republic of Indonesia</td>\n",
       "      <td>1877519.0</td>\n",
       "      <td>147.8196</td>\n",
       "      <td>382.8528</td>\n",
       "      <td>TLS, MYS, PNG</td>\n",
       "      <td>4</td>\n",
       "      <td>Indonesian martial arts |\\nPencak silat |\\nTar...</td>\n",
       "    </tr>\n",
       "    <tr>\n",
       "      <th>4</th>\n",
       "      <td>566</td>\n",
       "      <td>223804632</td>\n",
       "      <td>0.02408</td>\n",
       "      <td>923768</td>\n",
       "      <td>Nigeria</td>\n",
       "      <td>NGA</td>\n",
       "      <td>NG</td>\n",
       "      <td>566</td>\n",
       "      <td>Africa</td>\n",
       "      <td>Western Africa, Sub-Saharan Africa</td>\n",
       "      <td>True</td>\n",
       "      <td>Federal Republic of Nigeria</td>\n",
       "      <td>910770.0</td>\n",
       "      <td>245.7312</td>\n",
       "      <td>636.4439</td>\n",
       "      <td>BEN, CMR, TCD, NER</td>\n",
       "      <td>6</td>\n",
       "      <td>Dambe</td>\n",
       "    </tr>\n",
       "  </tbody>\n",
       "</table>\n",
       "</div>"
      ],
      "text/plain": [
       "   place     pop2023  growthRate     area        country cca3 cca2  ccn3  \\\n",
       "0    356  1428627663     0.00808  3287590          India  IND   IN   356   \n",
       "1    156  1425671352    -0.00015  9706961          China  CHN   CN   156   \n",
       "2    840   339996563     0.00505  9372610  United States  USA   US   840   \n",
       "3    360   277534122     0.00738  1904569      Indonesia  IDN   ID   360   \n",
       "4    566   223804632     0.02408   923768        Nigeria  NGA   NG   566   \n",
       "\n",
       "          region                           subregion  unMember  \\\n",
       "0           Asia   Southern Asia, South Central Asia      True   \n",
       "1           Asia                        Eastern Asia      True   \n",
       "2  North America                    Northern America      True   \n",
       "3           Asia                  South-Eastern Asia      True   \n",
       "4         Africa  Western Africa, Sub-Saharan Africa      True   \n",
       "\n",
       "                  officialName  landAreaKm   density  densityMi  \\\n",
       "0            Republic of India   2973190.0  480.5033  1244.5036   \n",
       "1   People's Republic of China   9424702.9  151.2696   391.7884   \n",
       "2     United States of America   9147420.0   37.1686    96.2666   \n",
       "3        Republic of Indonesia   1877519.0  147.8196   382.8528   \n",
       "4  Federal Republic of Nigeria    910770.0  245.7312   636.4439   \n",
       "\n",
       "                                             borders  Rank  \\\n",
       "0             AFG, BGD, BTN, MMR, CHN, NPL, PAK, LKA     1   \n",
       "1  AFG, BTN, MMR, HKG, IND, KAZ, PRK, KGZ, LAO, M...     2   \n",
       "2                                           CAN, MEX     3   \n",
       "3                                      TLS, MYS, PNG     4   \n",
       "4                                 BEN, CMR, TCD, NER     6   \n",
       "\n",
       "                        MartialArtsByCountryOfOrigin  \n",
       "0  Indian martial arts |\\nMardani khel |\\nMalla-y...  \n",
       "1  Chinese martial arts |\\nShaolin Kung Fu |\\nBag...  \n",
       "2  American Kenpo |\\nChulukua |\\nCollegiate wrest...  \n",
       "3  Indonesian martial arts |\\nPencak silat |\\nTar...  \n",
       "4                                              Dambe  "
      ]
     },
     "execution_count": 2,
     "metadata": {},
     "output_type": "execute_result"
    }
   ],
   "source": [
    "# Read the csv data and display the first few rows\n",
    "martial_art = pd.read_csv('martial-arts-by-country-2023.csv')\n",
    "martial_art.head()\n"
   ]
  },
  {
   "cell_type": "code",
   "execution_count": 3,
   "id": "f46c4088",
   "metadata": {},
   "outputs": [
    {
     "name": "stdout",
     "output_type": "stream",
     "text": [
      "Index(['place', 'pop2023', 'growthRate', 'area', 'country', 'cca3', 'cca2',\n",
      "       'ccn3', 'region', 'subregion', 'unMember', 'officialName', 'landAreaKm',\n",
      "       'density', 'densityMi', 'borders', 'Rank',\n",
      "       'MartialArtsByCountryOfOrigin'],\n",
      "      dtype='object')\n"
     ]
    }
   ],
   "source": [
    "# Display all columns from data\n",
    "print(martial_art.columns)\n"
   ]
  },
  {
   "cell_type": "code",
   "execution_count": 4,
   "id": "4fc4620e",
   "metadata": {},
   "outputs": [
    {
     "name": "stdout",
     "output_type": "stream",
     "text": [
      "<class 'pandas.core.frame.DataFrame'>\n",
      "RangeIndex: 48 entries, 0 to 47\n",
      "Data columns (total 18 columns):\n",
      " #   Column                        Non-Null Count  Dtype  \n",
      "---  ------                        --------------  -----  \n",
      " 0   place                         48 non-null     int64  \n",
      " 1   pop2023                       48 non-null     int64  \n",
      " 2   growthRate                    48 non-null     float64\n",
      " 3   area                          48 non-null     int64  \n",
      " 4   country                       48 non-null     object \n",
      " 5   cca3                          48 non-null     object \n",
      " 6   cca2                          48 non-null     object \n",
      " 7   ccn3                          48 non-null     int64  \n",
      " 8   region                        48 non-null     object \n",
      " 9   subregion                     48 non-null     object \n",
      " 10  unMember                      48 non-null     bool   \n",
      " 11  officialName                  48 non-null     object \n",
      " 12  landAreaKm                    48 non-null     float64\n",
      " 13  density                       48 non-null     float64\n",
      " 14  densityMi                     48 non-null     float64\n",
      " 15  borders                       39 non-null     object \n",
      " 16  Rank                          48 non-null     int64  \n",
      " 17  MartialArtsByCountryOfOrigin  48 non-null     object \n",
      "dtypes: bool(1), float64(4), int64(5), object(8)\n",
      "memory usage: 6.5+ KB\n",
      "None\n"
     ]
    }
   ],
   "source": [
    "# Summarize all info from the data\n",
    "print(martial_art.info())\n"
   ]
  },
  {
   "cell_type": "code",
   "execution_count": 5,
   "id": "a7c5533d",
   "metadata": {
    "scrolled": false
   },
   "outputs": [
    {
     "data": {
      "text/html": [
       "<div>\n",
       "<style scoped>\n",
       "    .dataframe tbody tr th:only-of-type {\n",
       "        vertical-align: middle;\n",
       "    }\n",
       "\n",
       "    .dataframe tbody tr th {\n",
       "        vertical-align: top;\n",
       "    }\n",
       "\n",
       "    .dataframe thead th {\n",
       "        text-align: right;\n",
       "    }\n",
       "</style>\n",
       "<table border=\"1\" class=\"dataframe\">\n",
       "  <thead>\n",
       "    <tr style=\"text-align: right;\">\n",
       "      <th></th>\n",
       "      <th>country</th>\n",
       "      <th>region</th>\n",
       "      <th>subregion</th>\n",
       "      <th>officialName</th>\n",
       "      <th>Rank</th>\n",
       "      <th>MartialArtsByCountryOfOrigin</th>\n",
       "    </tr>\n",
       "  </thead>\n",
       "  <tbody>\n",
       "    <tr>\n",
       "      <th>0</th>\n",
       "      <td>India</td>\n",
       "      <td>Asia</td>\n",
       "      <td>Southern Asia, South Central Asia</td>\n",
       "      <td>Republic of India</td>\n",
       "      <td>1</td>\n",
       "      <td>Indian martial arts |\\nMardani khel |\\nMalla-y...</td>\n",
       "    </tr>\n",
       "    <tr>\n",
       "      <th>1</th>\n",
       "      <td>China</td>\n",
       "      <td>Asia</td>\n",
       "      <td>Eastern Asia</td>\n",
       "      <td>People's Republic of China</td>\n",
       "      <td>2</td>\n",
       "      <td>Chinese martial arts |\\nShaolin Kung Fu |\\nBag...</td>\n",
       "    </tr>\n",
       "    <tr>\n",
       "      <th>2</th>\n",
       "      <td>United States</td>\n",
       "      <td>North America</td>\n",
       "      <td>Northern America</td>\n",
       "      <td>United States of America</td>\n",
       "      <td>3</td>\n",
       "      <td>American Kenpo |\\nChulukua |\\nCollegiate wrest...</td>\n",
       "    </tr>\n",
       "    <tr>\n",
       "      <th>3</th>\n",
       "      <td>Indonesia</td>\n",
       "      <td>Asia</td>\n",
       "      <td>South-Eastern Asia</td>\n",
       "      <td>Republic of Indonesia</td>\n",
       "      <td>4</td>\n",
       "      <td>Indonesian martial arts |\\nPencak silat |\\nTar...</td>\n",
       "    </tr>\n",
       "    <tr>\n",
       "      <th>4</th>\n",
       "      <td>Nigeria</td>\n",
       "      <td>Africa</td>\n",
       "      <td>Western Africa, Sub-Saharan Africa</td>\n",
       "      <td>Federal Republic of Nigeria</td>\n",
       "      <td>6</td>\n",
       "      <td>Dambe</td>\n",
       "    </tr>\n",
       "  </tbody>\n",
       "</table>\n",
       "</div>"
      ],
      "text/plain": [
       "         country         region                           subregion  \\\n",
       "0          India           Asia   Southern Asia, South Central Asia   \n",
       "1          China           Asia                        Eastern Asia   \n",
       "2  United States  North America                    Northern America   \n",
       "3      Indonesia           Asia                  South-Eastern Asia   \n",
       "4        Nigeria         Africa  Western Africa, Sub-Saharan Africa   \n",
       "\n",
       "                  officialName  Rank  \\\n",
       "0            Republic of India     1   \n",
       "1   People's Republic of China     2   \n",
       "2     United States of America     3   \n",
       "3        Republic of Indonesia     4   \n",
       "4  Federal Republic of Nigeria     6   \n",
       "\n",
       "                        MartialArtsByCountryOfOrigin  \n",
       "0  Indian martial arts |\\nMardani khel |\\nMalla-y...  \n",
       "1  Chinese martial arts |\\nShaolin Kung Fu |\\nBag...  \n",
       "2  American Kenpo |\\nChulukua |\\nCollegiate wrest...  \n",
       "3  Indonesian martial arts |\\nPencak silat |\\nTar...  \n",
       "4                                              Dambe  "
      ]
     },
     "execution_count": 5,
     "metadata": {},
     "output_type": "execute_result"
    }
   ],
   "source": [
    "# Drop unnecessary columns and display the first few rows\n",
    "martial_art = martial_art.drop(columns=['pop2023','growthRate','place','area','cca3','cca2','ccn3','unMember',\n",
    "                         'landAreaKm','density','densityMi','borders'])\n",
    "martial_art.head()\n"
   ]
  },
  {
   "cell_type": "code",
   "execution_count": 6,
   "id": "b7978c24",
   "metadata": {},
   "outputs": [
    {
     "name": "stdout",
     "output_type": "stream",
     "text": [
      "<class 'pandas.core.frame.DataFrame'>\n",
      "RangeIndex: 48 entries, 0 to 47\n",
      "Data columns (total 6 columns):\n",
      " #   Column                        Non-Null Count  Dtype \n",
      "---  ------                        --------------  ----- \n",
      " 0   country                       48 non-null     object\n",
      " 1   region                        48 non-null     object\n",
      " 2   subregion                     48 non-null     object\n",
      " 3   officialName                  48 non-null     object\n",
      " 4   Rank                          48 non-null     int64 \n",
      " 5   MartialArtsByCountryOfOrigin  48 non-null     object\n",
      "dtypes: int64(1), object(5)\n",
      "memory usage: 2.4+ KB\n",
      "None\n"
     ]
    }
   ],
   "source": [
    "# Summarize all info from the data\n",
    "print(martial_art.info())\n"
   ]
  },
  {
   "cell_type": "code",
   "execution_count": 7,
   "id": "0a67e3f1",
   "metadata": {},
   "outputs": [],
   "source": [
    "# Change datatypes\n",
    "martial_art['country'] = martial_art['country'].astype('category')\n",
    "martial_art['region'] = martial_art['region'].astype('category')\n",
    "martial_art['subregion'] = martial_art['subregion'].astype('category')\n",
    "martial_art['officialName'] = martial_art['officialName'].astype('category')\n",
    "martial_art['MartialArtsByCountryOfOrigin'] = martial_art['MartialArtsByCountryOfOrigin'].astype('category')\n"
   ]
  },
  {
   "cell_type": "code",
   "execution_count": 8,
   "id": "b5389adc",
   "metadata": {},
   "outputs": [
    {
     "name": "stdout",
     "output_type": "stream",
     "text": [
      "<class 'pandas.core.frame.DataFrame'>\n",
      "RangeIndex: 48 entries, 0 to 47\n",
      "Data columns (total 6 columns):\n",
      " #   Column                        Non-Null Count  Dtype   \n",
      "---  ------                        --------------  -----   \n",
      " 0   country                       48 non-null     category\n",
      " 1   region                        48 non-null     category\n",
      " 2   subregion                     48 non-null     category\n",
      " 3   officialName                  48 non-null     category\n",
      " 4   Rank                          48 non-null     int64   \n",
      " 5   MartialArtsByCountryOfOrigin  48 non-null     category\n",
      "dtypes: category(5), int64(1)\n",
      "memory usage: 5.9 KB\n",
      "None\n"
     ]
    }
   ],
   "source": [
    "# Summarize all info from the data\n",
    "print(martial_art.info())\n"
   ]
  },
  {
   "cell_type": "code",
   "execution_count": 9,
   "id": "ba92ff16",
   "metadata": {},
   "outputs": [],
   "source": [
    "# Rename column(s)\n",
    "martial_art = martial_art.rename(columns={'MartialArtsByCountryOfOrigin':'MartialArtsOrigin'})\n"
   ]
  },
  {
   "cell_type": "code",
   "execution_count": 10,
   "id": "c7116587",
   "metadata": {},
   "outputs": [
    {
     "name": "stdout",
     "output_type": "stream",
     "text": [
      "Index(['country', 'region', 'subregion', 'officialName', 'Rank',\n",
      "       'MartialArtsOrigin'],\n",
      "      dtype='object')\n"
     ]
    }
   ],
   "source": [
    "# Display all columns from data\n",
    "print(martial_art.columns)\n"
   ]
  },
  {
   "cell_type": "code",
   "execution_count": 11,
   "id": "632bcbaf",
   "metadata": {},
   "outputs": [
    {
     "name": "stdout",
     "output_type": "stream",
     "text": [
      "<class 'pandas.core.frame.DataFrame'>\n",
      "RangeIndex: 48 entries, 0 to 47\n",
      "Data columns (total 6 columns):\n",
      " #   Column             Non-Null Count  Dtype   \n",
      "---  ------             --------------  -----   \n",
      " 0   country            48 non-null     category\n",
      " 1   region             48 non-null     category\n",
      " 2   subregion          48 non-null     category\n",
      " 3   officialName       48 non-null     category\n",
      " 4   Rank               48 non-null     int64   \n",
      " 5   MartialArtsOrigin  48 non-null     category\n",
      "dtypes: category(5), int64(1)\n",
      "memory usage: 5.9 KB\n",
      "None\n"
     ]
    }
   ],
   "source": [
    "# Summarize all info from the data\n",
    "print(martial_art.info())\n"
   ]
  },
  {
   "cell_type": "code",
   "execution_count": 12,
   "id": "777b3282",
   "metadata": {},
   "outputs": [
    {
     "data": {
      "text/html": [
       "<div>\n",
       "<style scoped>\n",
       "    .dataframe tbody tr th:only-of-type {\n",
       "        vertical-align: middle;\n",
       "    }\n",
       "\n",
       "    .dataframe tbody tr th {\n",
       "        vertical-align: top;\n",
       "    }\n",
       "\n",
       "    .dataframe thead th {\n",
       "        text-align: right;\n",
       "    }\n",
       "</style>\n",
       "<table border=\"1\" class=\"dataframe\">\n",
       "  <thead>\n",
       "    <tr style=\"text-align: right;\">\n",
       "      <th></th>\n",
       "      <th>country</th>\n",
       "      <th>region</th>\n",
       "      <th>subregion</th>\n",
       "      <th>officialName</th>\n",
       "      <th>Rank</th>\n",
       "      <th>MartialArtsOrigin</th>\n",
       "    </tr>\n",
       "  </thead>\n",
       "  <tbody>\n",
       "    <tr>\n",
       "      <th>0</th>\n",
       "      <td>India</td>\n",
       "      <td>Asia</td>\n",
       "      <td>Southern Asia, South Central Asia</td>\n",
       "      <td>Republic of India</td>\n",
       "      <td>1</td>\n",
       "      <td>Indian martial arts |\\nMardani khel |\\nMalla-y...</td>\n",
       "    </tr>\n",
       "    <tr>\n",
       "      <th>1</th>\n",
       "      <td>China</td>\n",
       "      <td>Asia</td>\n",
       "      <td>Eastern Asia</td>\n",
       "      <td>People's Republic of China</td>\n",
       "      <td>2</td>\n",
       "      <td>Chinese martial arts |\\nShaolin Kung Fu |\\nBag...</td>\n",
       "    </tr>\n",
       "    <tr>\n",
       "      <th>2</th>\n",
       "      <td>United States</td>\n",
       "      <td>North America</td>\n",
       "      <td>Northern America</td>\n",
       "      <td>United States of America</td>\n",
       "      <td>3</td>\n",
       "      <td>American Kenpo |\\nChulukua |\\nCollegiate wrest...</td>\n",
       "    </tr>\n",
       "    <tr>\n",
       "      <th>3</th>\n",
       "      <td>Indonesia</td>\n",
       "      <td>Asia</td>\n",
       "      <td>South-Eastern Asia</td>\n",
       "      <td>Republic of Indonesia</td>\n",
       "      <td>4</td>\n",
       "      <td>Indonesian martial arts |\\nPencak silat |\\nTar...</td>\n",
       "    </tr>\n",
       "    <tr>\n",
       "      <th>4</th>\n",
       "      <td>Nigeria</td>\n",
       "      <td>Africa</td>\n",
       "      <td>Western Africa, Sub-Saharan Africa</td>\n",
       "      <td>Federal Republic of Nigeria</td>\n",
       "      <td>6</td>\n",
       "      <td>Dambe</td>\n",
       "    </tr>\n",
       "  </tbody>\n",
       "</table>\n",
       "</div>"
      ],
      "text/plain": [
       "         country         region                           subregion  \\\n",
       "0          India           Asia   Southern Asia, South Central Asia   \n",
       "1          China           Asia                        Eastern Asia   \n",
       "2  United States  North America                    Northern America   \n",
       "3      Indonesia           Asia                  South-Eastern Asia   \n",
       "4        Nigeria         Africa  Western Africa, Sub-Saharan Africa   \n",
       "\n",
       "                  officialName  Rank  \\\n",
       "0            Republic of India     1   \n",
       "1   People's Republic of China     2   \n",
       "2     United States of America     3   \n",
       "3        Republic of Indonesia     4   \n",
       "4  Federal Republic of Nigeria     6   \n",
       "\n",
       "                                   MartialArtsOrigin  \n",
       "0  Indian martial arts |\\nMardani khel |\\nMalla-y...  \n",
       "1  Chinese martial arts |\\nShaolin Kung Fu |\\nBag...  \n",
       "2  American Kenpo |\\nChulukua |\\nCollegiate wrest...  \n",
       "3  Indonesian martial arts |\\nPencak silat |\\nTar...  \n",
       "4                                              Dambe  "
      ]
     },
     "execution_count": 12,
     "metadata": {},
     "output_type": "execute_result"
    }
   ],
   "source": [
    "# Display the first few rows\n",
    "martial_art.head()"
   ]
  },
  {
   "cell_type": "code",
   "execution_count": 13,
   "id": "c69f8979",
   "metadata": {},
   "outputs": [
    {
     "data": {
      "image/png": "[encoded data removed]",
      "text/plain": [
       "<Figure size 640x480 with 1 Axes>"
      ]
     },
     "metadata": {},
     "output_type": "display_data"
    }
   ],
   "source": [
    "# Create countplot graph\n",
    "region = sns.countplot(data=martial_art,x='region')\n"
   ]
  },
  {
   "cell_type": "code",
   "execution_count": 14,
   "id": "f254bef7",
   "metadata": {
    "scrolled": false
   },
   "outputs": [
    {
     "data": {
      "image/png": "[encoded data removed]",
      "text/plain": [
       "<Figure size 640x480 with 1 Axes>"
      ]
     },
     "metadata": {},
     "output_type": "display_data"
    }
   ],
   "source": [
    "# Create countplot graph\n",
    "subregion = sns.countplot(data=martial_art,x='subregion')\n",
    "subregion.set_xticklabels(subregion.get_xticklabels(), rotation=45, horizontalalignment='right')\n",
    "plt.show(block=False)\n"
   ]
  },
  {
   "cell_type": "code",
   "execution_count": 15,
   "id": "4522431a",
   "metadata": {},
   "outputs": [
    {
     "data": {
      "text/plain": [
       "country      region  subregion     officialName                Rank  MartialArtsOrigin                                                                                                                                                                                                                                       \n",
       "China        Asia    Eastern Asia  People's Republic of China  2     Chinese martial arts |\\nShaolin Kung Fu |\\nBaguazhang |\\nTai chi |\\nBajiquan |\\nWing Chun |\\nShuai Jiao |\\nChoy Gar |\\nFut Gar                                                                                                                              1\n",
       "Japan        Asia    Eastern Asia  Japan                       12    Japanese martial arts |\\nAikido |\\nJudo |\\nNinjutsu |\\nKenjutsu |\\nKarate |\\nSojutsu |\\nNaginatajutsu |\\nBojutsu |\\nOkinawan kobudo |\\nIaido |\\nKusarigamajutsu |\\nKendo |\\nKyudo |\\nTessenjutsu |\\nShurikenjutsu |\\nBajutsu |\\nJujutsu |\\nTaidō |\\nKūdō    1\n",
       "Mongolia     Asia    Eastern Asia  Mongolia                    133   Mongolian wrestling                                                                                                                                                                                                                                         1\n",
       "South Korea  Asia    Eastern Asia  Republic of Korea           29    Korean martial arts\\nSsireum\\nHwa Rang Do\\nKuk Sool Won\\nTaekkyon\\nTae kwon do\\nHap ki do                                                                                                                                                                   1\n",
       "Name: count, dtype: int64"
      ]
     },
     "execution_count": 15,
     "metadata": {},
     "output_type": "execute_result"
    }
   ],
   "source": [
    "# Specify region\n",
    "martial_art = martial_art[martial_art['subregion'] == 'Eastern Asia'].value_counts()\n",
    "martial_art\n"
   ]
  },
  {
   "cell_type": "markdown",
   "id": "b3e9b222",
   "metadata": {},
   "source": [
    "## Result:\n",
    "<br>\n",
    "1) Most Martial Arts are from Asia.\n",
    "<br>\n",
    "2) Most Martial Arts are specifically from South-Eastern Asia.\n",
    "<br>\n",
    "3) The subregion of Eastern Asia consists of China, Japan, Mongolia, and South Korea."
   ]
  }
 ],
 "metadata": {
  "kernelspec": {
   "display_name": "Python 3 (ipykernel)",
   "language": "python",
   "name": "python3"
  },
  "language_info": {
   "codemirror_mode": {
    "name": "ipython",
    "version": 3
   },
   "file_extension": ".py",
   "mimetype": "text/x-python",
   "name": "python",
   "nbconvert_exporter": "python",
   "pygments_lexer": "ipython3",
   "version": "3.10.9"
  }
 },
 "nbformat": 4,
 "nbformat_minor": 5
}
